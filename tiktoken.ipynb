{
 "cells": [
  {
   "cell_type": "code",
   "execution_count": 1,
   "id": "8465bb53-1434-4ff4-9f5e-687234571f72",
   "metadata": {},
   "outputs": [],
   "source": [
    "# import tiktoken\n",
    "# enc = tiktoken.get_encoding(\"o200k_base\")\n",
    "# assert enc.decode(enc.encode(\"hello world\")) == \"hello world\"\n",
    "\n",
    "# # To get the tokeniser corresponding to a specific model in the OpenAI API:\n",
    "# enc = tiktoken.encoding_for_model(\"gpt-4o\")"
   ]
  },
  {
   "cell_type": "code",
   "execution_count": 2,
   "id": "d235509b-eb60-45c1-8f6d-19a50b5fa73f",
   "metadata": {},
   "outputs": [],
   "source": [
    "from tiktoken._educational import *"
   ]
  },
  {
   "cell_type": "code",
   "execution_count": 3,
   "id": "98d85327-0470-4bfa-9fea-077245fbbaae",
   "metadata": {},
   "outputs": [],
   "source": [
    "enc = tiktoken.get_encoding(\"cl100k_base\")"
   ]
  },
  {
   "cell_type": "code",
   "execution_count": 6,
   "id": "171a06dc-1236-4a9a-8633-262516e1736a",
   "metadata": {},
   "outputs": [
    {
     "data": {
      "text/plain": [
       "[40, 1097, 1701, 87272, 5963, 1457]"
      ]
     },
     "execution_count": 6,
     "metadata": {},
     "output_type": "execute_result"
    }
   ],
   "source": [
    "encoded = enc.encode(\"I am using tiktoken now\")\n",
    "encoded"
   ]
  },
  {
   "cell_type": "code",
   "execution_count": 10,
   "id": "d2f89eef-ea14-49f7-ad41-e18392b13a1a",
   "metadata": {},
   "outputs": [
    {
     "data": {
      "text/plain": [
       "'I am using tiktoken now'"
      ]
     },
     "execution_count": 10,
     "metadata": {},
     "output_type": "execute_result"
    }
   ],
   "source": [
    "decoded = enc.decode([40, 1097, 1701, 87272, 5963, 1457])\n",
    "decoded"
   ]
  },
  {
   "cell_type": "code",
   "execution_count": 11,
   "id": "bee5f94e-dbfd-41a0-94d0-42794806a891",
   "metadata": {},
   "outputs": [
    {
     "name": "stdout",
     "output_type": "stream",
     "text": [
      "\u001b[48;5;167mI\u001b[0m\n",
      "\n",
      "\u001b[48;5;167m \u001b[48;5;179ma\u001b[48;5;185mm\u001b[0m\n",
      "\u001b[48;5;167m a\u001b[48;5;185mm\u001b[0m\n",
      "\u001b[48;5;167m am\u001b[0m\n",
      "\n",
      "\u001b[48;5;167m \u001b[48;5;179mu\u001b[48;5;185ms\u001b[48;5;77mi\u001b[48;5;80mn\u001b[48;5;68mg\u001b[0m\n",
      "\u001b[48;5;167m \u001b[48;5;179mu\u001b[48;5;185ms\u001b[48;5;77min\u001b[48;5;68mg\u001b[0m\n",
      "\u001b[48;5;167m \u001b[48;5;179mu\u001b[48;5;185ms\u001b[48;5;77ming\u001b[0m\n",
      "\u001b[48;5;167m \u001b[48;5;179mus\u001b[48;5;77ming\u001b[0m\n",
      "\u001b[48;5;167m us\u001b[48;5;77ming\u001b[0m\n",
      "\u001b[48;5;167m using\u001b[0m\n",
      "\n",
      "\u001b[48;5;167m \u001b[48;5;179mt\u001b[48;5;185mi\u001b[48;5;77mk\u001b[48;5;80mt\u001b[48;5;68mo\u001b[48;5;134mk\u001b[48;5;167me\u001b[48;5;179mn\u001b[0m\n",
      "\u001b[48;5;167m t\u001b[48;5;185mi\u001b[48;5;77mk\u001b[48;5;80mt\u001b[48;5;68mo\u001b[48;5;134mk\u001b[48;5;167me\u001b[48;5;179mn\u001b[0m\n",
      "\u001b[48;5;167m t\u001b[48;5;185mi\u001b[48;5;77mk\u001b[48;5;80mt\u001b[48;5;68mo\u001b[48;5;134mk\u001b[48;5;167men\u001b[0m\n",
      "\u001b[48;5;167m t\u001b[48;5;185mi\u001b[48;5;77mk\u001b[48;5;80mt\u001b[48;5;68mok\u001b[48;5;167men\u001b[0m\n",
      "\u001b[48;5;167m t\u001b[48;5;185mik\u001b[48;5;80mt\u001b[48;5;68mok\u001b[48;5;167men\u001b[0m\n",
      "\u001b[48;5;167m t\u001b[48;5;185mik\u001b[48;5;80mt\u001b[48;5;68moken\u001b[0m\n",
      "\u001b[48;5;167m t\u001b[48;5;185mik\u001b[48;5;80mtoken\u001b[0m\n",
      "\u001b[48;5;167m tik\u001b[48;5;80mtoken\u001b[0m\n",
      "\n",
      "\u001b[48;5;167m \u001b[48;5;179mn\u001b[48;5;185mo\u001b[48;5;77mw\u001b[0m\n",
      "\u001b[48;5;167m n\u001b[48;5;185mo\u001b[48;5;77mw\u001b[0m\n",
      "\u001b[48;5;167m n\u001b[48;5;185mow\u001b[0m\n",
      "\u001b[48;5;167m now\u001b[0m\n",
      "\n"
     ]
    },
    {
     "data": {
      "text/plain": [
       "[40, 1097, 1701, 87272, 5963, 1457]"
      ]
     },
     "execution_count": 11,
     "metadata": {},
     "output_type": "execute_result"
    }
   ],
   "source": [
    "enc = SimpleBytePairEncoding.from_tiktoken(\"cl100k_base\")\n",
    "enc.encode(\"I am using tiktoken now\")\n"
   ]
  },
  {
   "cell_type": "code",
   "execution_count": 12,
   "id": "6e62ba99-84a8-49cf-8ce3-ef985be67301",
   "metadata": {},
   "outputs": [
    {
     "data": {
      "text/plain": [
       "[12840, 527, 279, 11460, 430, 577, 9124, 369, 420, 10137]"
      ]
     },
     "execution_count": 12,
     "metadata": {},
     "output_type": "execute_result"
    }
   ],
   "source": [
    "#the more unique the word the more token value it has\n",
    "# Let's tokenize the provided prompt \"what are the tokens that u produced for this prompt\"\n",
    "import tiktoken\n",
    "\n",
    "# Load the encoding model for GPT-4\n",
    "enc = tiktoken.encoding_for_model(\"gpt-4\")\n",
    "\n",
    "# Encode the given prompt\n",
    "prompt = \"what are the tokens that u produced for this prompt\"\n",
    "tokens = enc.encode(prompt)\n",
    "\n",
    "tokens"
   ]
  },
  {
   "cell_type": "code",
   "execution_count": null,
   "id": "de9409b1-0af0-4c0f-b08a-66f776abe6eb",
   "metadata": {},
   "outputs": [],
   "source": []
  }
 ],
 "metadata": {
  "kernelspec": {
   "display_name": "Python 3 (ipykernel)",
   "language": "python",
   "name": "python3"
  },
  "language_info": {
   "codemirror_mode": {
    "name": "ipython",
    "version": 3
   },
   "file_extension": ".py",
   "mimetype": "text/x-python",
   "name": "python",
   "nbconvert_exporter": "python",
   "pygments_lexer": "ipython3",
   "version": "3.12.5"
  }
 },
 "nbformat": 4,
 "nbformat_minor": 5
}
