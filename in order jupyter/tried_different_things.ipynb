{
  "cells": [
    {
      "cell_type": "markdown",
      "metadata": {
        "id": "DFcMEdS5WsKc"
      },
      "source": [
        "---\n",
        "# Chapter 1: Pre-*requisites*\n",
        "---"
      ]
    },
    {
      "cell_type": "code",
      "execution_count": 1,
      "metadata": {
        "id": "MjVVVgq3R0Jq"
      },
      "outputs": [],
      "source": [
        "import numpy as np\n",
        "import matplotlib.pyplot as plt\n",
        "# import torch\n",
        "# import torch.nn.functional as F#for relu\n",
        "from tensorflow.keras.datasets import fashion_mnist"
      ]
    },
    {
      "cell_type": "markdown",
      "metadata": {
        "id": "XB6FC-seXS6j"
      },
      "source": [
        "Loading the data"
      ]
    },
    {
      "cell_type": "code",
      "execution_count": 2,
      "metadata": {
        "colab": {
          "base_uri": "https://localhost:8080/"
        },
        "collapsed": true,
        "id": "fKUTKPjDSK12",
        "outputId": "b8a82610-8ea3-49ac-94a5-098a313977e0"
      },
      "outputs": [
        {
          "output_type": "stream",
          "name": "stdout",
          "text": [
            "Downloading data from https://storage.googleapis.com/tensorflow/tf-keras-datasets/train-labels-idx1-ubyte.gz\n",
            "\u001b[1m29515/29515\u001b[0m \u001b[32m━━━━━━━━━━━━━━━━━━━━\u001b[0m\u001b[37m\u001b[0m \u001b[1m0s\u001b[0m 0us/step\n",
            "Downloading data from https://storage.googleapis.com/tensorflow/tf-keras-datasets/train-images-idx3-ubyte.gz\n",
            "\u001b[1m26421880/26421880\u001b[0m \u001b[32m━━━━━━━━━━━━━━━━━━━━\u001b[0m\u001b[37m\u001b[0m \u001b[1m1s\u001b[0m 0us/step\n",
            "Downloading data from https://storage.googleapis.com/tensorflow/tf-keras-datasets/t10k-labels-idx1-ubyte.gz\n",
            "\u001b[1m5148/5148\u001b[0m \u001b[32m━━━━━━━━━━━━━━━━━━━━\u001b[0m\u001b[37m\u001b[0m \u001b[1m0s\u001b[0m 1us/step\n",
            "Downloading data from https://storage.googleapis.com/tensorflow/tf-keras-datasets/t10k-images-idx3-ubyte.gz\n",
            "\u001b[1m4422102/4422102\u001b[0m \u001b[32m━━━━━━━━━━━━━━━━━━━━\u001b[0m\u001b[37m\u001b[0m \u001b[1m0s\u001b[0m 0us/step\n"
          ]
        }
      ],
      "source": [
        "(x_train,y_train),(x_test,y_test) = fashion_mnist.load_data()"
      ]
    },
    {
      "cell_type": "markdown",
      "metadata": {
        "id": "azvc2iHNXN7L"
      },
      "source": [
        "Some checking"
      ]
    },
    {
      "cell_type": "code",
      "execution_count": 3,
      "metadata": {
        "id": "sKGq3hKuSAOr"
      },
      "outputs": [],
      "source": [
        "assert x_train.shape == (60000, 28, 28)\n",
        "assert x_test.shape == (10000, 28, 28)\n",
        "assert y_train.shape == (60000,)\n",
        "assert y_test.shape == (10000,)"
      ]
    },
    {
      "cell_type": "markdown",
      "metadata": {
        "id": "E_23MLaUUAFP"
      },
      "source": [
        "\n",
        "\n",
        "---\n",
        "# ***Chapter 2: Preparing the data***\n",
        "---\n",
        "\n",
        "\n",
        " ***Converting 2D pixels to 1D***\n",
        "\n"
      ]
    },
    {
      "cell_type": "code",
      "execution_count": 4,
      "metadata": {
        "colab": {
          "base_uri": "https://localhost:8080/"
        },
        "id": "delZ5eytT_PB",
        "outputId": "a49bf3d1-e307-495c-f691-4cd2490240c1"
      },
      "outputs": [
        {
          "output_type": "execute_result",
          "data": {
            "text/plain": [
              "((60000, 784), (10000, 784))"
            ]
          },
          "metadata": {},
          "execution_count": 4
        }
      ],
      "source": [
        "x_train = x_train.reshape(x_train.shape[0],-1)/255 #Creates 60000 rows of 784 coloumn wide Matrix\n",
        "x_test = x_test.reshape(x_test.shape[0],-1)/255#Creates 60000 rows of 784 coloumn wide Matrix\n",
        "x_train.shape,x_test.shape"
      ]
    },
    {
      "cell_type": "markdown",
      "metadata": {
        "id": "6AkEhazXTY9p"
      },
      "source": [
        "\n",
        "\n",
        "---\n",
        "\n",
        "\n",
        " ***One Hot Encoding***🔥\n"
      ]
    },
    {
      "cell_type": "code",
      "execution_count": 5,
      "metadata": {
        "id": "B8HBt1l5TWgf"
      },
      "outputs": [],
      "source": [
        "y_train_encoded = np.eye(10)[y_train]\n",
        "y_test_encoded = np.eye(10)[y_test]"
      ]
    },
    {
      "cell_type": "markdown",
      "metadata": {
        "id": "CWFDmXNvWkNK"
      },
      "source": [
        "---\n",
        "\n",
        "#**Chapter 3: The meat**\n",
        "\n",
        "---\n",
        "\n",
        "#***The Neural Network***\n",
        "\n"
      ]
    },
    {
      "cell_type": "code",
      "execution_count": 12,
      "metadata": {
        "id": "i8csYgmdWg_R"
      },
      "outputs": [],
      "source": [
        "import numpy as np\n",
        "\n",
        "class Neural_Network:\n",
        "  def __init__(self,inputsize,hiddensize,outputsize,lr=0.01,ld1=0.0,ld2=0.0):\n",
        "        self.W1 = np.random.randn(inputsize, hiddensize) * 0.01\n",
        "        self.b1 = np.zeros((1, hiddensize))\n",
        "        self.W2 = np.random.randn(hiddensize, outputsize) * 0.01\n",
        "        self.b2 = np.zeros((1, outputsize))\n",
        "        self.loss_history = []\n",
        "        self.l1_lambda = ld1\n",
        "        self.l2_lambda = ld2\n",
        "        self.lr = lr\n",
        "  # def sigmoid(self,x):\n",
        "  #   return 1 / (1 + np.exp(-x))\n",
        "  # def sigmoid_derivative(self,x):\n",
        "  #   return x * (1 - x)\n",
        "\n",
        "  def tanh(self,x):\n",
        "    return np.tanh(x)\n",
        "  # def tanh_derivative(self,x):\n",
        "  #   return 1 - np.tanh(x) ** 2\n",
        "  # def relu(self,x):\n",
        "  #   for i in range(x.shape[0]):\n",
        "  #     for j in range(x.shape[1]):\n",
        "  #       if (x[i][j] < 0):\n",
        "  #         x[i][j] = 0\n",
        "  #   return x\n",
        "  # def relu(self,x):\n",
        "  #   return np.where(x > 0, 1, 0)\n",
        "  def softmax(self,x):\n",
        "    exps = np.exp(x - np.max(x, axis=1, keepdims=True))\n",
        "    return exps / np.sum(exps, axis=1, keepdims=True)\n",
        "  def forward(self,x):\n",
        "    self.z1=np.dot(x,self.W1)+self.b1\n",
        "    self.a1=self.tanh(self.z1)\n",
        "    self.z2=np.dot(self.a1,self.W2)+self.b2\n",
        "    self.a2=self.softmax(self.z2)\n",
        "    return self.a2\n",
        "  def backward(self, X, y, output):\n",
        "        m = X.shape[0]\n",
        "        output_error = output - y\n",
        "        hidden_error = np.dot(output_error, self.W2.T) * (1 - np.tanh(self.z1) ** 2)\n",
        "\n",
        "        dW2 = np.dot(self.a1.T, output_error) / m\n",
        "        db2 = np.sum(output_error, axis=0, keepdims=True) / m\n",
        "        dW1 = np.dot(X.T, hidden_error) / m\n",
        "        db1 = np.sum(hidden_error, axis=0, keepdims=True) / m\n",
        "\n",
        "\n",
        "        # dW1 += self.l1_lambda * np.sign(self.W1)\n",
        "        # dW2 += self.l1_lambda * np.sign(self.W2)\n",
        "\n",
        "\n",
        "        dW1 += self.l2_lambda * self.W1\n",
        "        dW2 += self.l2_lambda * self.W2\n",
        "\n",
        "        self.W1 -= self.lr * dW1\n",
        "        self.b1 -= self.lr * db1\n",
        "        self.W2 -= self.lr * dW2\n",
        "        self.b2 -= self.lr * db2\n",
        "  def train(self, X, y, epochs, regularization_type=\"L2\"):\n",
        "        for epoch in range(epochs):\n",
        "            output = self.forward(X)\n",
        "            self.backward(X, y, output)\n",
        "\n",
        "            # # Calculate loss with regularization penalties\n",
        "            # if regularization_type == \"L1\":\n",
        "            #     penalty = self.l1_lambda * (np.sum(np.abs(self.W1)) + np.sum(np.abs(self.W2)))\n",
        "            # else:  # L2 Regularization by default\n",
        "            #     penalty = self.l2_lambda * (np.sum(np.square(self.W1)) + np.sum(np.square(self.W2)))\n",
        "\n",
        "\n",
        "            loss = -np.mean(np.sum(y * np.log(output + 1e-10), axis=1)) #+ penalty\n",
        "            self.loss_history.append(loss)\n",
        "\n",
        "            if epoch % 50 == 0:\n",
        "                print(f\"Epoch {epoch}, Loss: {loss:.4f}\")\n",
        "  def predict(self, X):\n",
        "        output = self.forward(X)\n",
        "        return np.argmax(output, axis=1)\n",
        "\n",
        "\n",
        "\n",
        "#2\n",
        "\n",
        "\n",
        "# import numpy as np\n",
        "\n",
        "# class Neural_Network:\n",
        "#     def __init__(self, inputsize, hiddensize, outputsize, lr=0.01, l2_lambda=0.01, dropout_rate=0.5):\n",
        "#         self.inputsize = inputsize\n",
        "#         self.hiddensize = hiddensize\n",
        "#         self.outputsize = outputsize\n",
        "#         self.lr = lr\n",
        "#         self.l2_lambda = l2_lambda\n",
        "#         self.dropout_rate = dropout_rate\n",
        "\n",
        "#         # Initialize weights and biases\n",
        "#         self.W1 = np.random.randn(self.inputsize, self.hiddensize) * np.sqrt(2.0 / inputsize)\n",
        "#         self.b1 = np.zeros((1, self.hiddensize))\n",
        "#         self.W2 = np.random.randn(self.hiddensize, self.outputsize) * np.sqrt(2.0 / hiddensize)\n",
        "#         self.b2 = np.zeros((1, self.outputsize))\n",
        "\n",
        "#         self.loss_history = []\n",
        "\n",
        "#     def apply_dropout(self, layer_output, dropout_rate):\n",
        "#         # Dropout mask\n",
        "#         dropout_mask = np.random.binomial(1, 1 - dropout_rate, size=layer_output.shape)\n",
        "#         return layer_output * dropout_mask / (1 - dropout_rate), dropout_mask\n",
        "\n",
        "#     def forward(self, X, training=True):\n",
        "#         # First layer forward pass\n",
        "#         self.z1 = np.dot(X, self.W1) + self.b1\n",
        "#         self.a1 = np.maximum(0, self.z1)  # ReLU activation\n",
        "\n",
        "#         # Apply dropout only during training\n",
        "#         if training:\n",
        "#             self.a1, self.dropout_mask = self.apply_dropout(self.a1, self.dropout_rate)\n",
        "\n",
        "#         # Second layer forward pass\n",
        "#         self.z2 = np.dot(self.a1, self.W2) + self.b2\n",
        "#         output = np.exp(self.z2) / np.sum(np.exp(self.z2), axis=1, keepdims=True)\n",
        "#         return output\n",
        "\n",
        "#     def backward(self, X, y, output):\n",
        "#         # Calculate the loss gradient\n",
        "#         m = X.shape[0]  # Number of examples\n",
        "#         dz2 = output - y  # Gradient of the loss with respect to z2 (output layer pre-activation)\n",
        "\n",
        "#         # Gradients for W2 and b2\n",
        "#         dW2 = np.dot(self.a1.T, dz2) / m + self.l2_lambda * self.W2\n",
        "#         db2 = np.sum(dz2, axis=0, keepdims=True) / m\n",
        "\n",
        "#         # Backpropagate through the second layer\n",
        "#         da1 = np.dot(dz2, self.W2.T)\n",
        "\n",
        "#         # Apply ReLU derivative (only propagate where z1 > 0)\n",
        "#         dz1 = da1 * (self.z1 > 0)\n",
        "\n",
        "#         # Apply dropout mask during backpropagation\n",
        "#         dz1 *= self.dropout_mask  # Skip the neurons dropped out during forward pass\n",
        "\n",
        "#         # Gradients for W1 and b1\n",
        "#         dW1 = np.dot(X.T, dz1) / m + self.l2_lambda * self.W1\n",
        "#         db1 = np.sum(dz1, axis=0, keepdims=True) / m\n",
        "\n",
        "#         # Update weights and biases\n",
        "#         self.W1 -= self.lr * dW1\n",
        "#         self.b1 -= self.lr * db1\n",
        "#         self.W2 -= self.lr * dW2\n",
        "#         self.b2 -= self.lr * db2\n",
        "\n",
        "#     def train(self, X, y, epochs, regularization_type=\"L2\"):\n",
        "#         for epoch in range(epochs):\n",
        "#             # Forward pass with dropout enabled during training\n",
        "#             output = self.forward(X, training=True)\n",
        "\n",
        "#             # Backpropagation\n",
        "#             self.backward(X, y, output)\n",
        "\n",
        "#             # Loss calculation with regularization penalty\n",
        "#             if regularization_type == \"L1\":\n",
        "#                 penalty = self.l2_lambda * (np.sum(np.abs(self.W1)) + np.sum(np.abs(self.W2)))\n",
        "#             else:  # Default to L2 regularization\n",
        "#                 penalty = self.l2_lambda * (np.sum(np.square(self.W1)) + np.sum(np.square(self.W2)))\n",
        "\n",
        "#             # Cross-entropy loss\n",
        "#             loss = -np.mean(np.sum(y * np.log(output + 1e-10), axis=1)) + penalty\n",
        "#             self.loss_history.append(loss)\n",
        "\n",
        "#             if epoch % 10 == 0:\n",
        "#                 print(f\"Epoch {epoch}, Loss: {loss:.4f}\")\n",
        "\n",
        "#     def predict(self, X):\n",
        "#         # During prediction, dropout is disabled\n",
        "#         output = self.forward(X, training=False)\n",
        "#         return np.argmax(output, axis=1)\n",
        "\n",
        "\n",
        "#3\n",
        "\n",
        "# class Neural_Network:\n",
        "#     def __init__(self, inputsize, hiddensize, outputsize, lr=0.01, l1_lambda=0.01, l2_lambda=0.01, dropout_rate=0.5, alpha=0.5):\n",
        "#         self.inputsize = inputsize\n",
        "#         self.hiddensize = hiddensize\n",
        "#         self.outputsize = outputsize\n",
        "#         self.lr = lr\n",
        "#         self.l1_lambda = l1_lambda  # L1 regularization factor (Lasso)\n",
        "#         self.l2_lambda = l2_lambda  # L2 regularization factor (Ridge)\n",
        "#         self.alpha = alpha  # Mix between L1 and L2 regularization\n",
        "#         self.dropout_rate = dropout_rate\n",
        "\n",
        "#         # Initialize weights and biases\n",
        "#         self.W1 = np.random.randn(self.inputsize, self.hiddensize) * np.sqrt(2.0 / inputsize)\n",
        "#         self.b1 = np.zeros((1, self.hiddensize))\n",
        "#         self.W2 = np.random.randn(self.hiddensize, self.outputsize) * np.sqrt(2.0 / hiddensize)\n",
        "#         self.b2 = np.zeros((1, self.outputsize))\n",
        "\n",
        "#         self.loss_history = []\n",
        "\n",
        "#     def apply_dropout(self, layer_output, dropout_rate):\n",
        "#         dropout_mask = np.random.binomial(1, 1 - dropout_rate, size=layer_output.shape)\n",
        "#         return layer_output * dropout_mask / (1 - dropout_rate), dropout_mask\n",
        "\n",
        "#     def forward(self, X, training=True):\n",
        "#         # First layer forward pass\n",
        "#         self.z1 = np.dot(X, self.W1) + self.b1\n",
        "#         self.a1 = np.maximum(0, self.z1)  # ReLU activation\n",
        "\n",
        "#         # Apply dropout only during training\n",
        "#         if training:\n",
        "#             self.a1, self.dropout_mask = self.apply_dropout(self.a1, self.dropout_rate)\n",
        "\n",
        "#         # Second layer forward pass\n",
        "#         self.z2 = np.dot(self.a1, self.W2) + self.b2\n",
        "#         output = np.exp(self.z2) / np.sum(np.exp(self.z2), axis=1, keepdims=True)\n",
        "#         return output\n",
        "\n",
        "#     def backward(self, X, y, output):\n",
        "#         m = X.shape[0]\n",
        "#         dz2 = output - y  # Gradient of the loss with respect to z2 (output layer pre-activation)\n",
        "\n",
        "#         # Gradients for W2 and b2\n",
        "#         dW2 = np.dot(self.a1.T, dz2) / m\n",
        "#         db2 = np.sum(dz2, axis=0, keepdims=True) / m\n",
        "\n",
        "#         da1 = np.dot(dz2, self.W2.T)\n",
        "#         dz1 = da1 * (self.z1 > 0)  # Backprop through ReLU\n",
        "#         dz1 *= self.dropout_mask  # Apply dropout mask during backpropagation\n",
        "\n",
        "#         # Gradients for W1 and b1\n",
        "#         dW1 = np.dot(X.T, dz1) / m\n",
        "#         db1 = np.sum(dz1, axis=0, keepdims=True) / m\n",
        "\n",
        "#         # Apply ElasticNet regularization\n",
        "#         dW1 += self.alpha * self.l1_lambda * np.sign(self.W1) + (1 - self.alpha) * self.l2_lambda * self.W1\n",
        "#         dW2 += self.alpha * self.l1_lambda * np.sign(self.W2) + (1 - self.alpha) * self.l2_lambda * self.W2\n",
        "\n",
        "#         # Update weights and biases\n",
        "#         self.W1 -= self.lr * dW1\n",
        "#         self.b1 -= self.lr * db1\n",
        "#         self.W2 -= self.lr * dW2\n",
        "#         self.b2 -= self.lr * db2\n",
        "\n",
        "#     def train(self, X, y, epochs):\n",
        "#         for epoch in range(epochs):\n",
        "#             output = self.forward(X, training=True)  # Forward pass with dropout\n",
        "#             self.backward(X, y, output)  # Backpropagation\n",
        "\n",
        "#             # Calculate loss with ElasticNet regularization penalty\n",
        "#             penalty = self.alpha * self.l1_lambda * (np.sum(np.abs(self.W1)) + np.sum(np.abs(self.W2))) + \\\n",
        "#                       (1 - self.alpha) * self.l2_lambda * (np.sum(np.square(self.W1)) + np.sum(np.square(self.W2)))\n",
        "\n",
        "#             # Cross-entropy loss\n",
        "#             loss = -np.mean(np.sum(y * np.log(output + 1e-10), axis=1)) + penalty\n",
        "#             self.loss_history.append(loss)\n",
        "\n",
        "#             if epoch % 100 == 0:\n",
        "#                 print(f\"Epoch {epoch}, Loss: {loss:.4f}\")\n",
        "\n",
        "#     def predict(self, X):\n",
        "#         output = self.forward(X, training=False)\n",
        "#         return np.argmax(output, axis=1)\n",
        "\n",
        "\n"
      ]
    },
    {
      "cell_type": "code",
      "execution_count": 13,
      "metadata": {
        "colab": {
          "base_uri": "https://localhost:8080/"
        },
        "id": "ISXTjKEOMTGW",
        "collapsed": true,
        "outputId": "ffc1baff-1eb4-440c-804e-b0dc66681ca6"
      },
      "outputs": [
        {
          "output_type": "stream",
          "name": "stdout",
          "text": [
            "Epoch 0, Loss: 2.3029\n",
            "Epoch 50, Loss: 1.5233\n",
            "Epoch 100, Loss: 1.1215\n",
            "Epoch 150, Loss: 0.9640\n",
            "Epoch 200, Loss: 0.8911\n",
            "Epoch 250, Loss: 0.8509\n",
            "Epoch 300, Loss: 0.8245\n",
            "Epoch 350, Loss: 0.8053\n",
            "Epoch 400, Loss: 0.7904\n",
            "Epoch 450, Loss: 0.7787\n",
            "Epoch 500, Loss: 0.7692\n",
            "Epoch 550, Loss: 0.7616\n",
            "Epoch 600, Loss: 0.7553\n",
            "Epoch 650, Loss: 0.7501\n",
            "Epoch 700, Loss: 0.7458\n",
            "Epoch 750, Loss: 0.7422\n",
            "Epoch 800, Loss: 0.7391\n",
            "Epoch 850, Loss: 0.7365\n",
            "Epoch 900, Loss: 0.7342\n",
            "Epoch 950, Loss: 0.7323\n"
          ]
        }
      ],
      "source": [
        "# nn_l1 = Neural_Network(inputsize=784, hiddensize=128, outputsize=10, lr=0.01, ld1=0.01)\n",
        "nn_l2 = Neural_Network(inputsize=784, hiddensize=64, outputsize=10, lr=0.1, ld2=0.05)\n",
        "epochs = 1000\n",
        "# nn_l1.train(x_train, y_train_encoded, epochs=epochs, regularization_type=\"L1\")\n",
        "nn_l2.train(x_train, y_train_encoded, epochs=epochs, regularization_type=\"L2\")\n",
        "\n",
        "#2\n",
        "# nn = Neural_Network(inputsize=784, hiddensize=512, outputsize=10, lr=0.01, l2_lambda=0.01, dropout_rate=0.5)\n",
        "# nn.train(x_train, y_train_encoded, epochs=100)\n",
        "\n",
        "#3\n",
        "\n",
        "# nn_elasticnet = Neural_Network(inputsize=784, hiddensize=1024, outputsize=10, lr=0.01, l1_lambda=0.01, l2_lambda=0.01, dropout_rate=0.5, alpha=0.5)\n",
        "# nn_elasticnet.train(x_train, y_train_encoded, epochs=1000)\n"
      ]
    },
    {
      "cell_type": "code",
      "execution_count": 10,
      "metadata": {
        "colab": {
          "base_uri": "https://localhost:8080/",
          "height": 472
        },
        "id": "y8KctzX7MQOQ",
        "outputId": "21072fed-2412-4c7e-821a-12d6bdf407d9"
      },
      "outputs": [
        {
          "output_type": "display_data",
          "data": {
            "text/plain": [
              "<Figure size 640x480 with 1 Axes>"
            ],
            "image/png": "[encoded data removed]"
          },
          "metadata": {}
        }
      ],
      "source": [
        "# plt.plot(nn_l1.loss_history, label='L1 Regularization')\n",
        "plt.plot(nn_l2.loss_history, label='L2 Regularization')\n",
        "plt.xlabel('Epochs')\n",
        "plt.ylabel('Loss')\n",
        "plt.title('l2 Regulztn')\n",
        "plt.legend()\n",
        "plt.show()\n",
        "\n",
        "\n"
      ]
    },
    {
      "cell_type": "code",
      "execution_count": 11,
      "metadata": {
        "colab": {
          "base_uri": "https://localhost:8080/"
        },
        "id": "gesakzkKHDif",
        "outputId": "b2ccd0ad-e0b3-444d-8010-ac499cc623be"
      },
      "outputs": [
        {
          "output_type": "stream",
          "name": "stdout",
          "text": [
            "Test Accuracy: 0.7737\n"
          ]
        }
      ],
      "source": [
        "predictions = nn_l2.predict(x_test)\n",
        "accuracy = np.mean(predictions == y_test)\n",
        "print(f\"Test Accuracy: {accuracy:.4f}\")\n",
        "\n"
      ]
    }
  ],
  "metadata": {
    "colab": {
      "provenance": []
    },
    "kernelspec": {
      "display_name": "Python 3",
      "name": "python3"
    },
    "language_info": {
      "name": "python"
    }
  },
  "nbformat": 4,
  "nbformat_minor": 0
}